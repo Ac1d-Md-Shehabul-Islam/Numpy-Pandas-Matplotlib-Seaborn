{
  "nbformat": 4,
  "nbformat_minor": 0,
  "metadata": {
    "colab": {
      "name": "Python Basicsipynb",
      "provenance": [],
      "collapsed_sections": []
    },
    "kernelspec": {
      "name": "python3",
      "display_name": "Python 3"
    }
  },
  "cells": [
    {
      "cell_type": "code",
      "metadata": {
        "id": "WPmfIzIv3BOc"
      },
      "source": [
        "age = 12\r\n",
        "name = 'Siam'"
      ],
      "execution_count": null,
      "outputs": []
    },
    {
      "cell_type": "code",
      "metadata": {
        "colab": {
          "base_uri": "https://localhost:8080/",
          "height": 35
        },
        "id": "-PvK0cPo3MuM",
        "outputId": "8c6cc4a4-3e63-45a7-9b39-fc2cef919b41"
      },
      "source": [
        "'My name is {} and my age is {}'.format(num,name)"
      ],
      "execution_count": null,
      "outputs": [
        {
          "output_type": "execute_result",
          "data": {
            "application/vnd.google.colaboratory.intrinsic+json": {
              "type": "string"
            },
            "text/plain": [
              "'My name is 12 and my age is Siam'"
            ]
          },
          "metadata": {
            "tags": []
          },
          "execution_count": 2
        }
      ]
    },
    {
      "cell_type": "code",
      "metadata": {
        "colab": {
          "base_uri": "https://localhost:8080/",
          "height": 35
        },
        "id": "oOhCuQct3Xrb",
        "outputId": "f35f7bd8-c8b3-4661-b8c4-d046bca92bd7"
      },
      "source": [
        "'My name is {one} and my age is {two}'.format(one=num,two=name)"
      ],
      "execution_count": null,
      "outputs": [
        {
          "output_type": "execute_result",
          "data": {
            "application/vnd.google.colaboratory.intrinsic+json": {
              "type": "string"
            },
            "text/plain": [
              "'My name is 12 and my age is Siam'"
            ]
          },
          "metadata": {
            "tags": []
          },
          "execution_count": 3
        }
      ]
    },
    {
      "cell_type": "code",
      "metadata": {
        "colab": {
          "base_uri": "https://localhost:8080/",
          "height": 35
        },
        "id": "p8zTjw4s3jwc",
        "outputId": "efe791cd-029c-4620-b43b-0b3d0514d91b"
      },
      "source": [
        "s = \"Hello Programmers\"\r\n",
        "s[0:-1]\r\n",
        "s[0:-1:2]"
      ],
      "execution_count": null,
      "outputs": [
        {
          "output_type": "execute_result",
          "data": {
            "application/vnd.google.colaboratory.intrinsic+json": {
              "type": "string"
            },
            "text/plain": [
              "'HloPorme'"
            ]
          },
          "metadata": {
            "tags": []
          },
          "execution_count": 5
        }
      ]
    },
    {
      "cell_type": "code",
      "metadata": {
        "colab": {
          "base_uri": "https://localhost:8080/",
          "height": 35
        },
        "id": "mo3c6sqr32sk",
        "outputId": "3f0e275a-5570-45a8-a129-c5c259437f8c"
      },
      "source": [
        "a = [1,2,['c','b']]\r\n",
        "a[2][1]"
      ],
      "execution_count": null,
      "outputs": [
        {
          "output_type": "execute_result",
          "data": {
            "application/vnd.google.colaboratory.intrinsic+json": {
              "type": "string"
            },
            "text/plain": [
              "'b'"
            ]
          },
          "metadata": {
            "tags": []
          },
          "execution_count": 9
        }
      ]
    },
    {
      "cell_type": "code",
      "metadata": {
        "colab": {
          "base_uri": "https://localhost:8080/"
        },
        "id": "o6aakQ5q4Khc",
        "outputId": "dbb80aec-294d-4b39-f4ff-68c14b5fd0d4"
      },
      "source": [
        "print(a[2][1])"
      ],
      "execution_count": null,
      "outputs": [
        {
          "output_type": "stream",
          "text": [
            "b\n"
          ],
          "name": "stdout"
        }
      ]
    },
    {
      "cell_type": "code",
      "metadata": {
        "colab": {
          "base_uri": "https://localhost:8080/"
        },
        "id": "gc_-aOoq4i5c",
        "outputId": "a93ecf85-bb49-49fb-cf8a-1e2f8fcec853"
      },
      "source": [
        "nest = [1,2,3,[4,5,['Siam']]]\r\n",
        "nest[3][2]"
      ],
      "execution_count": null,
      "outputs": [
        {
          "output_type": "execute_result",
          "data": {
            "text/plain": [
              "['Siam']"
            ]
          },
          "metadata": {
            "tags": []
          },
          "execution_count": 16
        }
      ]
    },
    {
      "cell_type": "code",
      "metadata": {
        "id": "MMgfAzN_4zOj",
        "colab": {
          "base_uri": "https://localhost:8080/"
        },
        "outputId": "c855d594-3be8-43dc-9ecf-1f40b317fb18"
      },
      "source": [
        "d = {'key1':'Siam', 'key2':12}\r\n",
        "d.keys"
      ],
      "execution_count": 1,
      "outputs": [
        {
          "output_type": "execute_result",
          "data": {
            "text/plain": [
              "<function dict.keys>"
            ]
          },
          "metadata": {
            "tags": []
          },
          "execution_count": 1
        }
      ]
    },
    {
      "cell_type": "code",
      "metadata": {
        "colab": {
          "base_uri": "https://localhost:8080/"
        },
        "id": "tqrznWPbrnZ6",
        "outputId": "7b587adf-75e7-488b-854c-8971e170cd4a"
      },
      "source": [
        "print(d['key1'])"
      ],
      "execution_count": 3,
      "outputs": [
        {
          "output_type": "stream",
          "text": [
            "Siam\n"
          ],
          "name": "stdout"
        }
      ]
    },
    {
      "cell_type": "code",
      "metadata": {
        "colab": {
          "base_uri": "https://localhost:8080/"
        },
        "id": "NRTGPCwpBVNE",
        "outputId": "8b159c12-754e-4358-8c21-c28ab2f5adb9"
      },
      "source": [
        "d.keys()"
      ],
      "execution_count": 57,
      "outputs": [
        {
          "output_type": "execute_result",
          "data": {
            "text/plain": [
              "dict_keys(['key1', 'key2'])"
            ]
          },
          "metadata": {
            "tags": []
          },
          "execution_count": 57
        }
      ]
    },
    {
      "cell_type": "code",
      "metadata": {
        "colab": {
          "base_uri": "https://localhost:8080/"
        },
        "id": "CJZDn-SgrtmK",
        "outputId": "d99cf308-918a-435a-9893-43f1937e87ff"
      },
      "source": [
        "d.items()"
      ],
      "execution_count": 4,
      "outputs": [
        {
          "output_type": "execute_result",
          "data": {
            "text/plain": [
              "dict_items([('key1', 'Siam'), ('key2', 12)])"
            ]
          },
          "metadata": {
            "tags": []
          },
          "execution_count": 4
        }
      ]
    },
    {
      "cell_type": "code",
      "metadata": {
        "colab": {
          "base_uri": "https://localhost:8080/"
        },
        "id": "aYB64u6yr_Ap",
        "outputId": "aac29163-56ed-42be-8c5a-4d0013774827"
      },
      "source": [
        "d.values()"
      ],
      "execution_count": 5,
      "outputs": [
        {
          "output_type": "execute_result",
          "data": {
            "text/plain": [
              "dict_values(['Siam', 12])"
            ]
          },
          "metadata": {
            "tags": []
          },
          "execution_count": 5
        }
      ]
    },
    {
      "cell_type": "code",
      "metadata": {
        "colab": {
          "base_uri": "https://localhost:8080/"
        },
        "id": "rYDDq-tNsAlJ",
        "outputId": "f64f2eeb-a79b-4b76-a770-eb16318bcd3f"
      },
      "source": [
        "for i in d:\r\n",
        "  print(i,d[i])\r\n",
        "  #print(d[i])"
      ],
      "execution_count": 15,
      "outputs": [
        {
          "output_type": "stream",
          "text": [
            "key1 Siam\n",
            "key2 12\n"
          ],
          "name": "stdout"
        }
      ]
    },
    {
      "cell_type": "code",
      "metadata": {
        "colab": {
          "base_uri": "https://localhost:8080/"
        },
        "id": "dEEwiRXftFgA",
        "outputId": "0100d2f8-6c6d-4343-ca2b-e45e948dbd24"
      },
      "source": [
        "for key,value in d.items():\r\n",
        "  print(key,value)\r\n",
        "  #print(key)\r\n",
        "  #print(value)"
      ],
      "execution_count": 19,
      "outputs": [
        {
          "output_type": "stream",
          "text": [
            "key1 Siam\n",
            "key2 12\n"
          ],
          "name": "stdout"
        }
      ]
    },
    {
      "cell_type": "code",
      "metadata": {
        "colab": {
          "base_uri": "https://localhost:8080/"
        },
        "id": "rNzse87ltIwh",
        "outputId": "306b64ca-0e6b-4c9e-b833-d54a3366bfe7"
      },
      "source": [
        "d1 = {'k':['a','b',2],'k2':'nothing'}\r\n",
        "d1['k']"
      ],
      "execution_count": 22,
      "outputs": [
        {
          "output_type": "execute_result",
          "data": {
            "text/plain": [
              "['a', 'b', 2]"
            ]
          },
          "metadata": {
            "tags": []
          },
          "execution_count": 22
        }
      ]
    },
    {
      "cell_type": "code",
      "metadata": {
        "colab": {
          "base_uri": "https://localhost:8080/",
          "height": 35
        },
        "id": "NE2B3s8MthdB",
        "outputId": "5b1a9161-152a-40d4-9d25-0b7c18923f4d"
      },
      "source": [
        "my_list = d1['k']\r\n",
        "my_list[0]\r\n",
        "# d1['k'][0]"
      ],
      "execution_count": 24,
      "outputs": [
        {
          "output_type": "execute_result",
          "data": {
            "application/vnd.google.colaboratory.intrinsic+json": {
              "type": "string"
            },
            "text/plain": [
              "'a'"
            ]
          },
          "metadata": {
            "tags": []
          },
          "execution_count": 24
        }
      ]
    },
    {
      "cell_type": "code",
      "metadata": {
        "colab": {
          "base_uri": "https://localhost:8080/",
          "height": 35
        },
        "id": "L2f9UE2YtzW7",
        "outputId": "6359923a-34a8-446f-89e6-a8f05f7d5fd6"
      },
      "source": [
        "d1['k'][0]"
      ],
      "execution_count": 25,
      "outputs": [
        {
          "output_type": "execute_result",
          "data": {
            "application/vnd.google.colaboratory.intrinsic+json": {
              "type": "string"
            },
            "text/plain": [
              "'a'"
            ]
          },
          "metadata": {
            "tags": []
          },
          "execution_count": 25
        }
      ]
    },
    {
      "cell_type": "code",
      "metadata": {
        "colab": {
          "base_uri": "https://localhost:8080/"
        },
        "id": "Z_WiiTwGt9YS",
        "outputId": "75899817-9c93-4eba-c396-4a1b63fe763c"
      },
      "source": [
        "d2 = {'k1':{'innerkey':[1,2,3]}}\r\n",
        "# extracting '2' \r\n",
        "d2['k1']['innerkey'][1]"
      ],
      "execution_count": 27,
      "outputs": [
        {
          "output_type": "execute_result",
          "data": {
            "text/plain": [
              "2"
            ]
          },
          "metadata": {
            "tags": []
          },
          "execution_count": 27
        }
      ]
    },
    {
      "cell_type": "code",
      "metadata": {
        "colab": {
          "base_uri": "https://localhost:8080/"
        },
        "id": "SRhmLuFRvYEb",
        "outputId": "8a335b08-1862-46c2-b761-302efc8fbb94"
      },
      "source": [
        "t = (1,2,3)\r\n",
        "my_tuple = t\r\n",
        "my_tuple"
      ],
      "execution_count": 29,
      "outputs": [
        {
          "output_type": "execute_result",
          "data": {
            "text/plain": [
              "(1, 2, 3)"
            ]
          },
          "metadata": {
            "tags": []
          },
          "execution_count": 29
        }
      ]
    },
    {
      "cell_type": "markdown",
      "metadata": {
        "id": "uv4EcGzxwWIr"
      },
      "source": [
        "Tuples can not be mutated. We can not assign new values to tuple like lists.\r\n"
      ]
    },
    {
      "cell_type": "code",
      "metadata": {
        "colab": {
          "base_uri": "https://localhost:8080/"
        },
        "id": "CidkNyx1wcfp",
        "outputId": "efa12260-d4d8-4c08-f06a-c7e6b191b9eb"
      },
      "source": [
        "a = [1,2,2,2,3,3,3,46,7,5,3,4,99]\r\n",
        "b = {1,22,22,2,33,43,33,416,7,5,3,4,99}\r\n",
        "set(a)"
      ],
      "execution_count": 34,
      "outputs": [
        {
          "output_type": "execute_result",
          "data": {
            "text/plain": [
              "{1, 2, 3, 4, 5, 7, 46, 99}"
            ]
          },
          "metadata": {
            "tags": []
          },
          "execution_count": 34
        }
      ]
    },
    {
      "cell_type": "code",
      "metadata": {
        "colab": {
          "base_uri": "https://localhost:8080/"
        },
        "id": "C3O08cE7wsTq",
        "outputId": "ded3c225-ac82-4430-e4c8-ca9db6910532"
      },
      "source": [
        "set(b)"
      ],
      "execution_count": 35,
      "outputs": [
        {
          "output_type": "execute_result",
          "data": {
            "text/plain": [
              "{1, 2, 3, 4, 5, 7, 22, 33, 43, 99, 416}"
            ]
          },
          "metadata": {
            "tags": []
          },
          "execution_count": 35
        }
      ]
    },
    {
      "cell_type": "code",
      "metadata": {
        "colab": {
          "base_uri": "https://localhost:8080/"
        },
        "id": "-gfe7uFgw6n5",
        "outputId": "06da8536-1e71-4526-ea3c-35963754dc2d"
      },
      "source": [
        "'Siam' != 'Sami'"
      ],
      "execution_count": 36,
      "outputs": [
        {
          "output_type": "execute_result",
          "data": {
            "text/plain": [
              "True"
            ]
          },
          "metadata": {
            "tags": []
          },
          "execution_count": 36
        }
      ]
    },
    {
      "cell_type": "code",
      "metadata": {
        "colab": {
          "base_uri": "https://localhost:8080/"
        },
        "id": "5oUFZ426xHcZ",
        "outputId": "94983805-fb87-45b8-e9a4-ac39aac98b86"
      },
      "source": [
        "x = [1,2,3,4]\r\n",
        "output = []\r\n",
        "\r\n",
        "for i in x:\r\n",
        "  output.append(i**2)\r\n",
        "print(output)"
      ],
      "execution_count": 37,
      "outputs": [
        {
          "output_type": "stream",
          "text": [
            "[1, 4, 9, 16]\n"
          ],
          "name": "stdout"
        }
      ]
    },
    {
      "cell_type": "code",
      "metadata": {
        "colab": {
          "base_uri": "https://localhost:8080/"
        },
        "id": "-Cqqggeb4eUw",
        "outputId": "a7f4f1e5-27aa-47fa-af20-9a0b4944a0ec"
      },
      "source": [
        "[num**2 for num in x]"
      ],
      "execution_count": 38,
      "outputs": [
        {
          "output_type": "execute_result",
          "data": {
            "text/plain": [
              "[1, 4, 9, 16]"
            ]
          },
          "metadata": {
            "tags": []
          },
          "execution_count": 38
        }
      ]
    },
    {
      "cell_type": "code",
      "metadata": {
        "colab": {
          "base_uri": "https://localhost:8080/"
        },
        "id": "ot7krGCA5hFQ",
        "outputId": "0ab4d01d-38fe-4d76-8545-d2d937b675f6"
      },
      "source": [
        "def axis(text):\r\n",
        "  print('My name is {one}'.format(one=text))\r\n",
        "axis('Siam')"
      ],
      "execution_count": 42,
      "outputs": [
        {
          "output_type": "stream",
          "text": [
            "My name is Siam\n"
          ],
          "name": "stdout"
        }
      ]
    },
    {
      "cell_type": "code",
      "metadata": {
        "colab": {
          "base_uri": "https://localhost:8080/"
        },
        "id": "sZE4IiFR5tHA",
        "outputId": "82017685-4562-49ad-aed2-1fc2096e034f"
      },
      "source": [
        "def axis(text='default'):\r\n",
        "  print('My name is {one}'.format(one=text))\r\n",
        "axis()"
      ],
      "execution_count": 43,
      "outputs": [
        {
          "output_type": "stream",
          "text": [
            "My name is default\n"
          ],
          "name": "stdout"
        }
      ]
    },
    {
      "cell_type": "code",
      "metadata": {
        "colab": {
          "base_uri": "https://localhost:8080/"
        },
        "id": "KvL4F5qg6CFA",
        "outputId": "d5341ccb-86c8-4319-b4bc-296a9ef2081d"
      },
      "source": [
        "def mul(num):\r\n",
        "  return num*2\r\n",
        "seq = [1,2,3,4,5]\r\n",
        "list(map(mul,seq))"
      ],
      "execution_count": 45,
      "outputs": [
        {
          "output_type": "execute_result",
          "data": {
            "text/plain": [
              "[2, 4, 6, 8, 10]"
            ]
          },
          "metadata": {
            "tags": []
          },
          "execution_count": 45
        }
      ]
    },
    {
      "cell_type": "code",
      "metadata": {
        "colab": {
          "base_uri": "https://localhost:8080/"
        },
        "id": "V_ur8Y45-pan",
        "outputId": "38deb3d3-b485-4038-9666-57f088662254"
      },
      "source": [
        "lambda var:var*2 # alternative of writing a function"
      ],
      "execution_count": 46,
      "outputs": [
        {
          "output_type": "execute_result",
          "data": {
            "text/plain": [
              "<function __main__.<lambda>>"
            ]
          },
          "metadata": {
            "tags": []
          },
          "execution_count": 46
        }
      ]
    },
    {
      "cell_type": "code",
      "metadata": {
        "colab": {
          "base_uri": "https://localhost:8080/"
        },
        "id": "W5Ny-gwk_MTQ",
        "outputId": "6e5cbbbe-e59a-4f05-df1b-f18655adc86a"
      },
      "source": [
        "a = lambda var:var*2\r\n",
        "a(2)"
      ],
      "execution_count": 47,
      "outputs": [
        {
          "output_type": "execute_result",
          "data": {
            "text/plain": [
              "4"
            ]
          },
          "metadata": {
            "tags": []
          },
          "execution_count": 47
        }
      ]
    },
    {
      "cell_type": "code",
      "metadata": {
        "colab": {
          "base_uri": "https://localhost:8080/"
        },
        "id": "FNw0d1Lg_Rg3",
        "outputId": "c6349241-673d-49b8-e02c-6025893d22f6"
      },
      "source": [
        "seq = [1,2,3,4,5]\r\n",
        "list(map(lambda num:num*3,seq))"
      ],
      "execution_count": 48,
      "outputs": [
        {
          "output_type": "execute_result",
          "data": {
            "text/plain": [
              "[3, 6, 9, 12, 15]"
            ]
          },
          "metadata": {
            "tags": []
          },
          "execution_count": 48
        }
      ]
    },
    {
      "cell_type": "code",
      "metadata": {
        "colab": {
          "base_uri": "https://localhost:8080/"
        },
        "id": "MZdgUeYH_Y3P",
        "outputId": "c2fbf4aa-01bf-4f8a-ff5d-ce300b43d615"
      },
      "source": [
        "print(list(filter(lambda num: num%2==0,seq)))"
      ],
      "execution_count": 50,
      "outputs": [
        {
          "output_type": "stream",
          "text": [
            "[2, 4]\n"
          ],
          "name": "stdout"
        }
      ]
    },
    {
      "cell_type": "code",
      "metadata": {
        "colab": {
          "base_uri": "https://localhost:8080/",
          "height": 35
        },
        "id": "No-l6deUADg3",
        "outputId": "067efe93-d05c-45a3-db47-8d72842c5ede"
      },
      "source": [
        "text = 'I love @programming @world'\r\n",
        "#text.lower()\r\n",
        "#text.upper()\r\n",
        "text.split('@')[2]"
      ],
      "execution_count": 56,
      "outputs": [
        {
          "output_type": "execute_result",
          "data": {
            "application/vnd.google.colaboratory.intrinsic+json": {
              "type": "string"
            },
            "text/plain": [
              "'world'"
            ]
          },
          "metadata": {
            "tags": []
          },
          "execution_count": 56
        }
      ]
    },
    {
      "cell_type": "code",
      "metadata": {
        "colab": {
          "base_uri": "https://localhost:8080/"
        },
        "id": "IGb9bw5gAgIH",
        "outputId": "ec4ea202-1699-4499-ba64-f33c54044a46"
      },
      "source": [
        "x = [(1,2),(3,4),(5,6)]\r\n",
        "for i in x:\r\n",
        "  print(i)"
      ],
      "execution_count": 58,
      "outputs": [
        {
          "output_type": "stream",
          "text": [
            "(1, 2)\n",
            "(3, 4)\n",
            "(5, 6)\n"
          ],
          "name": "stdout"
        }
      ]
    },
    {
      "cell_type": "code",
      "metadata": {
        "colab": {
          "base_uri": "https://localhost:8080/"
        },
        "id": "IBTzWMvGB0xf",
        "outputId": "bd58a24e-5947-401a-f3c9-bbd9761c2e7c"
      },
      "source": [
        "for (a,b) in x:\r\n",
        "  print(a)\r\n",
        "  print(b)"
      ],
      "execution_count": 61,
      "outputs": [
        {
          "output_type": "stream",
          "text": [
            "1\n",
            "2\n",
            "3\n",
            "4\n",
            "5\n",
            "6\n"
          ],
          "name": "stdout"
        }
      ]
    },
    {
      "cell_type": "markdown",
      "metadata": {
        "id": "bY8pZQIFUSwo"
      },
      "source": [
        "** Exercises **"
      ]
    },
    {
      "cell_type": "code",
      "metadata": {
        "colab": {
          "base_uri": "https://localhost:8080/"
        },
        "id": "3xHyv3o3B6R_",
        "outputId": "7e75575a-e2d2-47a9-ceb2-8ae44c9907ee"
      },
      "source": [
        " 7**4"
      ],
      "execution_count": 62,
      "outputs": [
        {
          "output_type": "execute_result",
          "data": {
            "text/plain": [
              "2401"
            ]
          },
          "metadata": {
            "tags": []
          },
          "execution_count": 62
        }
      ]
    },
    {
      "cell_type": "code",
      "metadata": {
        "colab": {
          "base_uri": "https://localhost:8080/"
        },
        "id": "_UbTVoibUb1k",
        "outputId": "83e4d652-a186-4d88-b596-d7f33e6e43eb"
      },
      "source": [
        "s = \"Hi there Sam!\"\r\n",
        "a=s.replace(\"Sam!\",\"Dad!\")\r\n",
        "a.split()"
      ],
      "execution_count": 68,
      "outputs": [
        {
          "output_type": "execute_result",
          "data": {
            "text/plain": [
              "['Hi', 'there', 'Dad!']"
            ]
          },
          "metadata": {
            "tags": []
          },
          "execution_count": 68
        }
      ]
    },
    {
      "cell_type": "code",
      "metadata": {
        "id": "fhn7L9zbUks9"
      },
      "source": [
        "d = {'k1':[1,2,3,{'tricky':['oh','man','inception',{'target':[1,2,3,'hello']}]}]}"
      ],
      "execution_count": 69,
      "outputs": []
    },
    {
      "cell_type": "code",
      "metadata": {
        "colab": {
          "base_uri": "https://localhost:8080/",
          "height": 35
        },
        "id": "chDgaNn4VYl1",
        "outputId": "b0b37cea-c798-4c2b-dfc8-88e5331d5e96"
      },
      "source": [
        "d['k1'][3]['tricky'][3]['target'][3]"
      ],
      "execution_count": 106,
      "outputs": [
        {
          "output_type": "execute_result",
          "data": {
            "application/vnd.google.colaboratory.intrinsic+json": {
              "type": "string"
            },
            "text/plain": [
              "'hello'"
            ]
          },
          "metadata": {
            "tags": []
          },
          "execution_count": 106
        }
      ]
    },
    {
      "cell_type": "code",
      "metadata": {
        "colab": {
          "base_uri": "https://localhost:8080/",
          "height": 35
        },
        "id": "mvOPdMPdVtNU",
        "outputId": "f113b979-2d3a-4fc0-a29d-b9fbcb251ead"
      },
      "source": [
        "def email(a):\r\n",
        "  return a.split('@')[1]\r\n",
        "\r\n",
        "email('shehabul97@gmail.com')"
      ],
      "execution_count": 110,
      "outputs": [
        {
          "output_type": "execute_result",
          "data": {
            "application/vnd.google.colaboratory.intrinsic+json": {
              "type": "string"
            },
            "text/plain": [
              "'gmail.com'"
            ]
          },
          "metadata": {
            "tags": []
          },
          "execution_count": 110
        }
      ]
    },
    {
      "cell_type": "code",
      "metadata": {
        "colab": {
          "base_uri": "https://localhost:8080/"
        },
        "id": "OspYydBTWPFk",
        "outputId": "6b640d48-e509-46d6-cc00-0b340d9ed053"
      },
      "source": [
        "def findDog(e):\r\n",
        "  if 'dog' in e:\r\n",
        "    return True\r\n",
        "  else:\r\n",
        "    return False\r\n",
        "\r\n",
        "findDog('Is there a dog here?')\r\n",
        "  "
      ],
      "execution_count": 76,
      "outputs": [
        {
          "output_type": "execute_result",
          "data": {
            "text/plain": [
              "True"
            ]
          },
          "metadata": {
            "tags": []
          },
          "execution_count": 76
        }
      ]
    },
    {
      "cell_type": "code",
      "metadata": {
        "colab": {
          "base_uri": "https://localhost:8080/"
        },
        "id": "l3D2z7D2X-qz",
        "outputId": "416120a7-ce1c-49f3-96b3-48175846a761"
      },
      "source": [
        "def dogCount(text):\r\n",
        "  a=text\r\n",
        "  b=a.split()\r\n",
        "  count=0\r\n",
        "  print(b)\r\n",
        "  for i in b:\r\n",
        "    if 'dog' in i:\r\n",
        "      count=count+1\r\n",
        "\r\n",
        "  return count\r\n",
        "  \r\n",
        "\r\n",
        "dogCount('This dog runs faster than other dog dude!')\r\n"
      ],
      "execution_count": 90,
      "outputs": [
        {
          "output_type": "stream",
          "text": [
            "['This', 'dog', 'runs', 'faster', 'than', 'other', 'dog', 'dude!']\n"
          ],
          "name": "stdout"
        },
        {
          "output_type": "execute_result",
          "data": {
            "text/plain": [
              "2"
            ]
          },
          "metadata": {
            "tags": []
          },
          "execution_count": 90
        }
      ]
    },
    {
      "cell_type": "code",
      "metadata": {
        "colab": {
          "base_uri": "https://localhost:8080/"
        },
        "id": "E53-9MS3YdP0",
        "outputId": "e000704a-9cbe-4087-a8a0-77d04ca30ece"
      },
      "source": [
        "seq = ['soup','dog','salad','cat','great']\r\n",
        "print(list(filter(lambda a:a.startswith('s'),seq)))"
      ],
      "execution_count": 91,
      "outputs": [
        {
          "output_type": "stream",
          "text": [
            "['soup', 'salad']\n"
          ],
          "name": "stdout"
        }
      ]
    },
    {
      "cell_type": "code",
      "metadata": {
        "colab": {
          "base_uri": "https://localhost:8080/",
          "height": 35
        },
        "id": "e1djjyrUai78",
        "outputId": "db8371fa-3480-40ca-fbf9-188aaaab67d7"
      },
      "source": [
        "def traffic(speed, is_birthday):\r\n",
        "  if is_birthday:\r\n",
        "      sp=speed-5\r\n",
        "  else:\r\n",
        "    sp=speed\r\n",
        "  if sp > 60 and sp <=80:\r\n",
        "    return \"Small Ticket\"\r\n",
        "  elif sp < 60:\r\n",
        "    return \"No Ticket\"\r\n",
        "  else: \r\n",
        "    return \"Big Ticket\"\r\n",
        "traffic(81,False)"
      ],
      "execution_count": 109,
      "outputs": [
        {
          "output_type": "execute_result",
          "data": {
            "application/vnd.google.colaboratory.intrinsic+json": {
              "type": "string"
            },
            "text/plain": [
              "'Big Ticket'"
            ]
          },
          "metadata": {
            "tags": []
          },
          "execution_count": 109
        }
      ]
    },
    {
      "cell_type": "code",
      "metadata": {
        "id": "hPM4sCpIfwrl"
      },
      "source": [
        ""
      ],
      "execution_count": null,
      "outputs": []
    }
  ]
}